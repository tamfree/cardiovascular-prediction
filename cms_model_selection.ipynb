{
 "cells": [
  {
   "cell_type": "markdown",
   "metadata": {},
   "source": [
    "# Model Selection"
   ]
  },
  {
   "cell_type": "code",
   "execution_count": null,
   "metadata": {},
   "outputs": [],
   "source": [
    "import pandas as pd\n",
    "import math\n",
    "from sklearn.metrics import mean_squared_error, r2_score, accuracy_score, precision_score, recall_score\n",
    "from sklearn.ensemble import RandomForestClassifier\n",
    "from sklearn.tree import DecisionTreeClassifier\n",
    "from sklearn.preprocessing import StandardScaler\n",
    "from sklearn.model_selection import train_test_split,RandomizedSearchCV\n",
    "from scipy.stats import randint\n",
    "import numpy as np\n",
    "\n",
    "# Needed for decision tree visualization\n",
    "import pydotplus\n",
    "from IPython.display import Image\n",
    "\n",
    "# To serialize the model\n",
    "import pickle\n"
   ]
  },
  {
   "cell_type": "markdown",
   "metadata": {},
   "source": [
    "## Define reusable components"
   ]
  },
  {
   "cell_type": "markdown",
   "metadata": {},
   "source": [
    "Function Definitions"
   ]
  },
  {
   "cell_type": "code",
   "execution_count": 3,
   "metadata": {},
   "outputs": [],
   "source": [
    "def printPerformanceMetrics(in_y_test, in_predicitions):\n",
    "    acc  = accuracy_score(in_y_test, in_predicitions)\n",
    "    mse = mean_squared_error(in_y_test, in_predicitions)\n",
    "    rmse = math.sqrt(mse)\n",
    "    pscore = precision_score(in_y_test, in_predicitions)\n",
    "    recall = recall_score(in_y_test, in_predicitions)\n",
    "    print(f\"\"\"\n",
    "            Accuracy Score: {acc:.2f}\n",
    "            --- For linear models ---\n",
    "            MSE: {mse:.2f}\n",
    "            RMSE: {rmse:.2f}\n",
    "            --- For classification models ---\n",
    "            Precision: {pscore:.2f}\n",
    "            Recall: {recall:.2f}\n",
    "\n",
    "            \"\"\")"
   ]
  },
  {
   "cell_type": "code",
   "execution_count": 4,
   "metadata": {},
   "outputs": [],
   "source": [
    "def randomForestHyperParamTuning(in_rf_classifier, in_X_train, in_y_train):\n",
    "\n",
    "    # Define the parameter grid\n",
    "    param_dist = {\n",
    "    'n_estimators': randint(50, 200),\n",
    "    'max_depth': [None, 10, 20, 30],\n",
    "    'min_samples_split': randint(2, 20),\n",
    "    'min_samples_leaf': randint(1, 10),\n",
    "    'max_features': ['sqrt', 'log2', None]\n",
    "    }\n",
    "\n",
    "    # Create a RandomizedSearchCV object\n",
    "    rscv = RandomizedSearchCV(\n",
    "        in_rf_classifier, param_distributions=param_dist, n_iter=10, cv=5, n_jobs=-1\n",
    "        )\n",
    "\n",
    "    # Fit the RandomizedSearchCV object to the data\n",
    "    rscv.fit(in_X_train, in_y_train)\n",
    "\n",
    "    # Print the best parameters\n",
    "    print(\"Best Parameters: \", rscv.best_params_)\n",
    "\n",
    "    #Get the best estimator\n",
    "    best_rf = rscv.best_estimator_\n",
    "\n",
    "    return best_rf"
   ]
  },
  {
   "cell_type": "code",
   "execution_count": 5,
   "metadata": {},
   "outputs": [],
   "source": [
    "def serializeModel(in_model, in_save_as_dot_pkl_filename):\n",
    "    with open(in_save_as_dot_pkl_filename, 'wb') as f:\n",
    "        pickle.dump(in_model, f)"
   ]
  },
  {
   "cell_type": "code",
   "execution_count": null,
   "metadata": {},
   "outputs": [],
   "source": []
  },
  {
   "cell_type": "markdown",
   "metadata": {},
   "source": [
    "Constant Defiitions"
   ]
  },
  {
   "cell_type": "code",
   "execution_count": 6,
   "metadata": {},
   "outputs": [],
   "source": [
    "# CONSTANTS\n",
    "TARGET_COL = \"Has CVD\"\n",
    "RAND_ST_VAL = 7\n",
    "ROOT_RESOURCES_DIR = \"./Repo/cardiovascular-prediction/resources/\""
   ]
  },
  {
   "cell_type": "markdown",
   "metadata": {},
   "source": [
    "## Train and Test Model"
   ]
  },
  {
   "cell_type": "markdown",
   "metadata": {},
   "source": [
    "### Retireve encoded data"
   ]
  },
  {
   "cell_type": "code",
   "execution_count": 7,
   "metadata": {},
   "outputs": [],
   "source": [
    "## Read encoded split data\n",
    "\n",
    "#X_train = pd.read_csv(ROOT_RESOURCES_DIR+\"X_train_cv_by_age_race_gender_df_states_ENCODED.csv\")\n",
    "#X_test = pd.read_csv(ROOT_RESOURCES_DIR+\"X_test_cv_by_age_race_gender_df_states_ENCODED.csv\")\n",
    "#y_train = pd.read_csv(ROOT_RESOURCES_DIR+\"y_train_cv_by_age_race_gender_df_states_ENCODED.csv\")\n",
    "#y_test = pd.read_csv(ROOT_RESOURCES_DIR+\"y_test_cv_by_age_race_gender_df_states_ENCODED.csv\")"
   ]
  },
  {
   "cell_type": "code",
   "execution_count": 8,
   "metadata": {},
   "outputs": [],
   "source": [
    "data_df = pd.read_csv(ROOT_RESOURCES_DIR+\"cms_cvd_data.csv\")"
   ]
  },
  {
   "cell_type": "code",
   "execution_count": 9,
   "metadata": {},
   "outputs": [
    {
     "data": {
      "text/plain": [
       "Index(['Unnamed: 0', 'Year', 'Data_Value', 'Data_Value_Alt',\n",
       "       'LowConfidenceLimit', 'HighConfidenceLimit', 'GeoLocation',\n",
       "       'Category_Cardiovascular Diseases',\n",
       "       'Topic_Acute Myocardial Infarction (Heart Attack)',\n",
       "       'Topic_Coronary Heart Disease',\n",
       "       'Topic_Diseases of the Heart (Heart Disease)', 'Topic_Heart Failure',\n",
       "       'Topic_Major Cardiovascular Disease', 'Topic_Stroke',\n",
       "       'Break_Out_Category_Age', 'Break_Out_Category_Gender',\n",
       "       'Break_Out_Category_Overall', 'Break_Out_Category_Race',\n",
       "       'Break_Out_65+', 'Break_Out_75+', 'Break_Out_Female',\n",
       "       'Break_Out_Hispanic', 'Break_Out_Male', 'Break_Out_Non-Hispanic Black',\n",
       "       'Break_Out_Non-Hispanic White', 'Break_Out_Other', 'Break_Out_Overall'],\n",
       "      dtype='object')"
      ]
     },
     "execution_count": 9,
     "metadata": {},
     "output_type": "execute_result"
    }
   ],
   "source": [
    "data_df.columns"
   ]
  },
  {
   "cell_type": "code",
   "execution_count": 10,
   "metadata": {},
   "outputs": [
    {
     "data": {
      "text/plain": [
       "(42111, 27)"
      ]
     },
     "execution_count": 10,
     "metadata": {},
     "output_type": "execute_result"
    }
   ],
   "source": [
    "data_df.shape"
   ]
  },
  {
   "cell_type": "code",
   "execution_count": 11,
   "metadata": {},
   "outputs": [
    {
     "data": {
      "text/plain": [
       "0    0.0\n",
       "1    0.0\n",
       "2    0.0\n",
       "3    0.0\n",
       "4    0.0\n",
       "Name: Topic_Diseases of the Heart (Heart Disease), dtype: float64"
      ]
     },
     "execution_count": 11,
     "metadata": {},
     "output_type": "execute_result"
    }
   ],
   "source": [
    "data_df[\"Topic_Diseases of the Heart (Heart Disease)\"].head()"
   ]
  },
  {
   "cell_type": "code",
   "execution_count": 12,
   "metadata": {},
   "outputs": [],
   "source": [
    "def removeParens(x):\n",
    "   return x.replace(\"(\", \"\")\n",
    "    "
   ]
  },
  {
   "cell_type": "code",
   "execution_count": 13,
   "metadata": {},
   "outputs": [],
   "source": [
    "data_df_tmp = data_df.copy()\n",
    "data_df_tmp[TARGET_COL] = data_df_tmp[\"Topic_Diseases of the Heart (Heart Disease)\"].apply(lambda x: 1 if x==1.0 else 0)\n",
    "data_df_tmp[TARGET_COL] = data_df_tmp[\"Topic_Heart Failure\"].apply(lambda x: 1 if x==1.0 else x)"
   ]
  },
  {
   "cell_type": "code",
   "execution_count": 14,
   "metadata": {},
   "outputs": [],
   "source": [
    "cols = ['Data_Value', 'Data_Value_Alt', 'LowConfidenceLimit',\n",
    "       'HighConfidenceLimit',\n",
    "       'Break_Out_Category_Age', 'Break_Out_Category_Gender',\n",
    "       'Break_Out_Category_Overall', 'Break_Out_Category_Race',\n",
    "       'Break_Out_65+', 'Break_Out_75+', 'Break_Out_Female',\n",
    "       'Break_Out_Hispanic', 'Break_Out_Male', 'Break_Out_Non-Hispanic Black',\n",
    "       'Break_Out_Non-Hispanic White', 'Break_Out_Other', 'Break_Out_Overall']"
   ]
  },
  {
   "cell_type": "code",
   "execution_count": 15,
   "metadata": {},
   "outputs": [
    {
     "data": {
      "text/plain": [
       "Data_Value  Data_Value_Alt  LowConfidenceLimit  HighConfidenceLimit  Break_Out_Category_Age  Break_Out_Category_Gender  Break_Out_Category_Overall  Break_Out_Category_Race  Break_Out_65+  Break_Out_75+  Break_Out_Female  Break_Out_Hispanic  Break_Out_Male  Break_Out_Non-Hispanic Black  Break_Out_Non-Hispanic White  Break_Out_Other  Break_Out_Overall  Has CVD\n",
       "3.90        3.9             3.8                 4.0                  0.0                     0.0                        0.0                         1.0                      0.0            0.0            0.0               0.0                 0.0             0.0                           1.0                           0.0              0.0                0.0        35\n",
       "3.80        3.8             3.7                 3.9                  0.0                     0.0                        1.0                         0.0                      0.0            0.0            0.0               0.0                 0.0             0.0                           0.0                           0.0              1.0                0.0        31\n",
       "2.80        2.8             2.7                 2.9                  1.0                     0.0                        0.0                         0.0                      1.0            0.0            0.0               0.0                 0.0             0.0                           0.0                           0.0              0.0                0.0        31\n",
       "3.80        3.8             3.7                 3.9                  0.0                     1.0                        0.0                         0.0                      0.0            0.0            1.0               0.0                 0.0             0.0                           0.0                           0.0              0.0                0.0        30\n",
       "                                                                                             0.0                        0.0                         1.0                      0.0            0.0            0.0               0.0                 0.0             0.0                           1.0                           0.0              0.0                0.0        29\n",
       "                                                                                                                                                                                                                                                                                                                                                                            ..\n",
       "2.84        28.4            26.6                30.2                 0.0                     0.0                        0.0                         1.0                      0.0            0.0            0.0               0.0                 0.0             1.0                           0.0                           0.0              0.0                1.0         1\n",
       "                            26.4                30.5                 0.0                     0.0                        0.0                         1.0                      0.0            0.0            0.0               0.0                 0.0             1.0                           0.0                           0.0              0.0                1.0         1\n",
       "                            24.5                32.3                 0.0                     0.0                        0.0                         1.0                      0.0            0.0            0.0               0.0                 0.0             1.0                           0.0                           0.0              0.0                1.0         1\n",
       "                            24.1                32.7                 0.0                     0.0                        0.0                         1.0                      0.0            0.0            0.0               1.0                 0.0             0.0                           0.0                           0.0              0.0                1.0         1\n",
       "4.30        4.3             4.1                 4.4                  0.0                     0.0                        0.0                         1.0                      0.0            0.0            0.0               0.0                 0.0             0.0                           1.0                           0.0              0.0                0.0         1\n",
       "Name: count, Length: 30181, dtype: int64"
      ]
     },
     "execution_count": 15,
     "metadata": {},
     "output_type": "execute_result"
    }
   ],
   "source": [
    "\n",
    "cols.append(TARGET_COL)\n",
    "data_df = data_df_tmp[cols].copy()\n",
    "#data_df_tmp[\"GeoLocation\"] = data_df_tmp[\"GeoLocation\"].apply(\"removeParens\", axis = \"columns\")\n",
    "data_df.value_counts()"
   ]
  },
  {
   "cell_type": "code",
   "execution_count": 16,
   "metadata": {},
   "outputs": [],
   "source": [
    "#split into train and test data sets\n",
    "y = data_df[TARGET_COL]\n",
    "#X = cv_by_age_race_gender_df_all.drop(columns=[TARGET_COL]).copy()\n",
    "X = data_df.drop(columns=[TARGET_COL])\n",
    "X_train, X_test, y_train, y_test = train_test_split(X, y, random_state=RAND_ST_VAL)\n"
   ]
  },
  {
   "cell_type": "code",
   "execution_count": 17,
   "metadata": {},
   "outputs": [
    {
     "name": "stdout",
     "output_type": "stream",
     "text": [
      "(31583, 17)\n",
      "(31583,)\n",
      "(10528, 17)\n",
      "(10528,)\n"
     ]
    }
   ],
   "source": [
    "print(X_train.shape)\n",
    "print(y_train.shape)\n",
    "\n",
    "print(X_test.shape)\n",
    "print(y_test.shape)\n"
   ]
  },
  {
   "cell_type": "code",
   "execution_count": 18,
   "metadata": {},
   "outputs": [
    {
     "data": {
      "text/plain": [
       "41516    0.0\n",
       "18356    0.0\n",
       "39946    0.0\n",
       "23662    1.0\n",
       "36839    1.0\n",
       "        ... \n",
       "34140    1.0\n",
       "13927    0.0\n",
       "919      0.0\n",
       "38467    0.0\n",
       "10742    0.0\n",
       "Name: Has CVD, Length: 31583, dtype: float64"
      ]
     },
     "execution_count": 18,
     "metadata": {},
     "output_type": "execute_result"
    }
   ],
   "source": [
    "y_train"
   ]
  },
  {
   "cell_type": "code",
   "execution_count": 19,
   "metadata": {},
   "outputs": [],
   "source": [
    "y_train_df = pd.DataFrame(y_train, columns=[TARGET_COL])\n",
    "y_test_df = pd.DataFrame(y_test, columns=[TARGET_COL])"
   ]
  },
  {
   "cell_type": "code",
   "execution_count": 20,
   "metadata": {},
   "outputs": [
    {
     "data": {
      "text/html": [
       "<div>\n",
       "<style scoped>\n",
       "    .dataframe tbody tr th:only-of-type {\n",
       "        vertical-align: middle;\n",
       "    }\n",
       "\n",
       "    .dataframe tbody tr th {\n",
       "        vertical-align: top;\n",
       "    }\n",
       "\n",
       "    .dataframe thead th {\n",
       "        text-align: right;\n",
       "    }\n",
       "</style>\n",
       "<table border=\"1\" class=\"dataframe\">\n",
       "  <thead>\n",
       "    <tr style=\"text-align: right;\">\n",
       "      <th></th>\n",
       "      <th>Has CVD</th>\n",
       "    </tr>\n",
       "  </thead>\n",
       "  <tbody>\n",
       "    <tr>\n",
       "      <th>41516</th>\n",
       "      <td>0.0</td>\n",
       "    </tr>\n",
       "    <tr>\n",
       "      <th>18356</th>\n",
       "      <td>0.0</td>\n",
       "    </tr>\n",
       "    <tr>\n",
       "      <th>39946</th>\n",
       "      <td>0.0</td>\n",
       "    </tr>\n",
       "    <tr>\n",
       "      <th>23662</th>\n",
       "      <td>1.0</td>\n",
       "    </tr>\n",
       "    <tr>\n",
       "      <th>36839</th>\n",
       "      <td>1.0</td>\n",
       "    </tr>\n",
       "    <tr>\n",
       "      <th>...</th>\n",
       "      <td>...</td>\n",
       "    </tr>\n",
       "    <tr>\n",
       "      <th>34140</th>\n",
       "      <td>1.0</td>\n",
       "    </tr>\n",
       "    <tr>\n",
       "      <th>13927</th>\n",
       "      <td>0.0</td>\n",
       "    </tr>\n",
       "    <tr>\n",
       "      <th>919</th>\n",
       "      <td>0.0</td>\n",
       "    </tr>\n",
       "    <tr>\n",
       "      <th>38467</th>\n",
       "      <td>0.0</td>\n",
       "    </tr>\n",
       "    <tr>\n",
       "      <th>10742</th>\n",
       "      <td>0.0</td>\n",
       "    </tr>\n",
       "  </tbody>\n",
       "</table>\n",
       "<p>31583 rows × 1 columns</p>\n",
       "</div>"
      ],
      "text/plain": [
       "       Has CVD\n",
       "41516      0.0\n",
       "18356      0.0\n",
       "39946      0.0\n",
       "23662      1.0\n",
       "36839      1.0\n",
       "...        ...\n",
       "34140      1.0\n",
       "13927      0.0\n",
       "919        0.0\n",
       "38467      0.0\n",
       "10742      0.0\n",
       "\n",
       "[31583 rows x 1 columns]"
      ]
     },
     "execution_count": 20,
     "metadata": {},
     "output_type": "execute_result"
    }
   ],
   "source": [
    "y_train_df"
   ]
  },
  {
   "cell_type": "code",
   "execution_count": 21,
   "metadata": {},
   "outputs": [
    {
     "data": {
      "text/html": [
       "<div>\n",
       "<style scoped>\n",
       "    .dataframe tbody tr th:only-of-type {\n",
       "        vertical-align: middle;\n",
       "    }\n",
       "\n",
       "    .dataframe tbody tr th {\n",
       "        vertical-align: top;\n",
       "    }\n",
       "\n",
       "    .dataframe thead th {\n",
       "        text-align: right;\n",
       "    }\n",
       "</style>\n",
       "<table border=\"1\" class=\"dataframe\">\n",
       "  <thead>\n",
       "    <tr style=\"text-align: right;\">\n",
       "      <th></th>\n",
       "      <th>Data_Value</th>\n",
       "      <th>Data_Value_Alt</th>\n",
       "      <th>LowConfidenceLimit</th>\n",
       "      <th>HighConfidenceLimit</th>\n",
       "      <th>Break_Out_Category_Age</th>\n",
       "      <th>Break_Out_Category_Gender</th>\n",
       "      <th>Break_Out_Category_Overall</th>\n",
       "      <th>Break_Out_Category_Race</th>\n",
       "      <th>Break_Out_65+</th>\n",
       "      <th>Break_Out_75+</th>\n",
       "      <th>Break_Out_Female</th>\n",
       "      <th>Break_Out_Hispanic</th>\n",
       "      <th>Break_Out_Male</th>\n",
       "      <th>Break_Out_Non-Hispanic Black</th>\n",
       "      <th>Break_Out_Non-Hispanic White</th>\n",
       "      <th>Break_Out_Other</th>\n",
       "      <th>Break_Out_Overall</th>\n",
       "    </tr>\n",
       "  </thead>\n",
       "  <tbody>\n",
       "    <tr>\n",
       "      <th>41516</th>\n",
       "      <td>3.70</td>\n",
       "      <td>3.7</td>\n",
       "      <td>3.7</td>\n",
       "      <td>3.8</td>\n",
       "      <td>0.0</td>\n",
       "      <td>0.0</td>\n",
       "      <td>1.0</td>\n",
       "      <td>0.0</td>\n",
       "      <td>0.0</td>\n",
       "      <td>0.0</td>\n",
       "      <td>0.0</td>\n",
       "      <td>0.0</td>\n",
       "      <td>0.0</td>\n",
       "      <td>0.0</td>\n",
       "      <td>0.0</td>\n",
       "      <td>0.0</td>\n",
       "      <td>1.0</td>\n",
       "    </tr>\n",
       "    <tr>\n",
       "      <th>18356</th>\n",
       "      <td>7.00</td>\n",
       "      <td>7.0</td>\n",
       "      <td>6.8</td>\n",
       "      <td>7.3</td>\n",
       "      <td>0.0</td>\n",
       "      <td>0.0</td>\n",
       "      <td>0.0</td>\n",
       "      <td>1.0</td>\n",
       "      <td>0.0</td>\n",
       "      <td>0.0</td>\n",
       "      <td>0.0</td>\n",
       "      <td>0.0</td>\n",
       "      <td>0.0</td>\n",
       "      <td>0.0</td>\n",
       "      <td>0.0</td>\n",
       "      <td>1.0</td>\n",
       "      <td>0.0</td>\n",
       "    </tr>\n",
       "    <tr>\n",
       "      <th>39946</th>\n",
       "      <td>4.30</td>\n",
       "      <td>4.3</td>\n",
       "      <td>4.2</td>\n",
       "      <td>4.4</td>\n",
       "      <td>0.0</td>\n",
       "      <td>1.0</td>\n",
       "      <td>0.0</td>\n",
       "      <td>0.0</td>\n",
       "      <td>0.0</td>\n",
       "      <td>0.0</td>\n",
       "      <td>0.0</td>\n",
       "      <td>0.0</td>\n",
       "      <td>1.0</td>\n",
       "      <td>0.0</td>\n",
       "      <td>0.0</td>\n",
       "      <td>0.0</td>\n",
       "      <td>0.0</td>\n",
       "    </tr>\n",
       "    <tr>\n",
       "      <th>23662</th>\n",
       "      <td>1.17</td>\n",
       "      <td>11.7</td>\n",
       "      <td>10.7</td>\n",
       "      <td>12.7</td>\n",
       "      <td>0.0</td>\n",
       "      <td>0.0</td>\n",
       "      <td>1.0</td>\n",
       "      <td>0.0</td>\n",
       "      <td>0.0</td>\n",
       "      <td>0.0</td>\n",
       "      <td>0.0</td>\n",
       "      <td>0.0</td>\n",
       "      <td>0.0</td>\n",
       "      <td>0.0</td>\n",
       "      <td>0.0</td>\n",
       "      <td>0.0</td>\n",
       "      <td>1.0</td>\n",
       "    </tr>\n",
       "    <tr>\n",
       "      <th>36839</th>\n",
       "      <td>3.11</td>\n",
       "      <td>31.1</td>\n",
       "      <td>30.0</td>\n",
       "      <td>32.1</td>\n",
       "      <td>0.0</td>\n",
       "      <td>0.0</td>\n",
       "      <td>0.0</td>\n",
       "      <td>1.0</td>\n",
       "      <td>0.0</td>\n",
       "      <td>0.0</td>\n",
       "      <td>0.0</td>\n",
       "      <td>0.0</td>\n",
       "      <td>0.0</td>\n",
       "      <td>0.0</td>\n",
       "      <td>0.0</td>\n",
       "      <td>1.0</td>\n",
       "      <td>0.0</td>\n",
       "    </tr>\n",
       "    <tr>\n",
       "      <th>...</th>\n",
       "      <td>...</td>\n",
       "      <td>...</td>\n",
       "      <td>...</td>\n",
       "      <td>...</td>\n",
       "      <td>...</td>\n",
       "      <td>...</td>\n",
       "      <td>...</td>\n",
       "      <td>...</td>\n",
       "      <td>...</td>\n",
       "      <td>...</td>\n",
       "      <td>...</td>\n",
       "      <td>...</td>\n",
       "      <td>...</td>\n",
       "      <td>...</td>\n",
       "      <td>...</td>\n",
       "      <td>...</td>\n",
       "      <td>...</td>\n",
       "    </tr>\n",
       "    <tr>\n",
       "      <th>34140</th>\n",
       "      <td>5.85</td>\n",
       "      <td>58.5</td>\n",
       "      <td>54.0</td>\n",
       "      <td>63.0</td>\n",
       "      <td>0.0</td>\n",
       "      <td>0.0</td>\n",
       "      <td>0.0</td>\n",
       "      <td>1.0</td>\n",
       "      <td>0.0</td>\n",
       "      <td>0.0</td>\n",
       "      <td>0.0</td>\n",
       "      <td>0.0</td>\n",
       "      <td>0.0</td>\n",
       "      <td>1.0</td>\n",
       "      <td>0.0</td>\n",
       "      <td>0.0</td>\n",
       "      <td>0.0</td>\n",
       "    </tr>\n",
       "    <tr>\n",
       "      <th>13927</th>\n",
       "      <td>11.10</td>\n",
       "      <td>11.1</td>\n",
       "      <td>0.0</td>\n",
       "      <td>25.6</td>\n",
       "      <td>0.0</td>\n",
       "      <td>0.0</td>\n",
       "      <td>0.0</td>\n",
       "      <td>1.0</td>\n",
       "      <td>0.0</td>\n",
       "      <td>0.0</td>\n",
       "      <td>0.0</td>\n",
       "      <td>1.0</td>\n",
       "      <td>0.0</td>\n",
       "      <td>0.0</td>\n",
       "      <td>0.0</td>\n",
       "      <td>0.0</td>\n",
       "      <td>0.0</td>\n",
       "    </tr>\n",
       "    <tr>\n",
       "      <th>919</th>\n",
       "      <td>25.00</td>\n",
       "      <td>25.0</td>\n",
       "      <td>24.3</td>\n",
       "      <td>25.7</td>\n",
       "      <td>1.0</td>\n",
       "      <td>0.0</td>\n",
       "      <td>0.0</td>\n",
       "      <td>0.0</td>\n",
       "      <td>1.0</td>\n",
       "      <td>0.0</td>\n",
       "      <td>0.0</td>\n",
       "      <td>0.0</td>\n",
       "      <td>0.0</td>\n",
       "      <td>0.0</td>\n",
       "      <td>0.0</td>\n",
       "      <td>0.0</td>\n",
       "      <td>0.0</td>\n",
       "    </tr>\n",
       "    <tr>\n",
       "      <th>38467</th>\n",
       "      <td>3.90</td>\n",
       "      <td>3.9</td>\n",
       "      <td>3.8</td>\n",
       "      <td>4.0</td>\n",
       "      <td>0.0</td>\n",
       "      <td>0.0</td>\n",
       "      <td>1.0</td>\n",
       "      <td>0.0</td>\n",
       "      <td>0.0</td>\n",
       "      <td>0.0</td>\n",
       "      <td>0.0</td>\n",
       "      <td>0.0</td>\n",
       "      <td>0.0</td>\n",
       "      <td>0.0</td>\n",
       "      <td>0.0</td>\n",
       "      <td>0.0</td>\n",
       "      <td>1.0</td>\n",
       "    </tr>\n",
       "    <tr>\n",
       "      <th>10742</th>\n",
       "      <td>2.50</td>\n",
       "      <td>2.5</td>\n",
       "      <td>0.9</td>\n",
       "      <td>4.2</td>\n",
       "      <td>0.0</td>\n",
       "      <td>0.0</td>\n",
       "      <td>0.0</td>\n",
       "      <td>1.0</td>\n",
       "      <td>0.0</td>\n",
       "      <td>0.0</td>\n",
       "      <td>0.0</td>\n",
       "      <td>1.0</td>\n",
       "      <td>0.0</td>\n",
       "      <td>0.0</td>\n",
       "      <td>0.0</td>\n",
       "      <td>0.0</td>\n",
       "      <td>0.0</td>\n",
       "    </tr>\n",
       "  </tbody>\n",
       "</table>\n",
       "<p>31583 rows × 17 columns</p>\n",
       "</div>"
      ],
      "text/plain": [
       "       Data_Value  Data_Value_Alt  LowConfidenceLimit  HighConfidenceLimit  \\\n",
       "41516        3.70             3.7                 3.7                  3.8   \n",
       "18356        7.00             7.0                 6.8                  7.3   \n",
       "39946        4.30             4.3                 4.2                  4.4   \n",
       "23662        1.17            11.7                10.7                 12.7   \n",
       "36839        3.11            31.1                30.0                 32.1   \n",
       "...           ...             ...                 ...                  ...   \n",
       "34140        5.85            58.5                54.0                 63.0   \n",
       "13927       11.10            11.1                 0.0                 25.6   \n",
       "919         25.00            25.0                24.3                 25.7   \n",
       "38467        3.90             3.9                 3.8                  4.0   \n",
       "10742        2.50             2.5                 0.9                  4.2   \n",
       "\n",
       "       Break_Out_Category_Age  Break_Out_Category_Gender  \\\n",
       "41516                     0.0                        0.0   \n",
       "18356                     0.0                        0.0   \n",
       "39946                     0.0                        1.0   \n",
       "23662                     0.0                        0.0   \n",
       "36839                     0.0                        0.0   \n",
       "...                       ...                        ...   \n",
       "34140                     0.0                        0.0   \n",
       "13927                     0.0                        0.0   \n",
       "919                       1.0                        0.0   \n",
       "38467                     0.0                        0.0   \n",
       "10742                     0.0                        0.0   \n",
       "\n",
       "       Break_Out_Category_Overall  Break_Out_Category_Race  Break_Out_65+  \\\n",
       "41516                         1.0                      0.0            0.0   \n",
       "18356                         0.0                      1.0            0.0   \n",
       "39946                         0.0                      0.0            0.0   \n",
       "23662                         1.0                      0.0            0.0   \n",
       "36839                         0.0                      1.0            0.0   \n",
       "...                           ...                      ...            ...   \n",
       "34140                         0.0                      1.0            0.0   \n",
       "13927                         0.0                      1.0            0.0   \n",
       "919                           0.0                      0.0            1.0   \n",
       "38467                         1.0                      0.0            0.0   \n",
       "10742                         0.0                      1.0            0.0   \n",
       "\n",
       "       Break_Out_75+  Break_Out_Female  Break_Out_Hispanic  Break_Out_Male  \\\n",
       "41516            0.0               0.0                 0.0             0.0   \n",
       "18356            0.0               0.0                 0.0             0.0   \n",
       "39946            0.0               0.0                 0.0             1.0   \n",
       "23662            0.0               0.0                 0.0             0.0   \n",
       "36839            0.0               0.0                 0.0             0.0   \n",
       "...              ...               ...                 ...             ...   \n",
       "34140            0.0               0.0                 0.0             0.0   \n",
       "13927            0.0               0.0                 1.0             0.0   \n",
       "919              0.0               0.0                 0.0             0.0   \n",
       "38467            0.0               0.0                 0.0             0.0   \n",
       "10742            0.0               0.0                 1.0             0.0   \n",
       "\n",
       "       Break_Out_Non-Hispanic Black  Break_Out_Non-Hispanic White  \\\n",
       "41516                           0.0                           0.0   \n",
       "18356                           0.0                           0.0   \n",
       "39946                           0.0                           0.0   \n",
       "23662                           0.0                           0.0   \n",
       "36839                           0.0                           0.0   \n",
       "...                             ...                           ...   \n",
       "34140                           1.0                           0.0   \n",
       "13927                           0.0                           0.0   \n",
       "919                             0.0                           0.0   \n",
       "38467                           0.0                           0.0   \n",
       "10742                           0.0                           0.0   \n",
       "\n",
       "       Break_Out_Other  Break_Out_Overall  \n",
       "41516              0.0                1.0  \n",
       "18356              1.0                0.0  \n",
       "39946              0.0                0.0  \n",
       "23662              0.0                1.0  \n",
       "36839              1.0                0.0  \n",
       "...                ...                ...  \n",
       "34140              0.0                0.0  \n",
       "13927              0.0                0.0  \n",
       "919                0.0                0.0  \n",
       "38467              0.0                1.0  \n",
       "10742              0.0                0.0  \n",
       "\n",
       "[31583 rows x 17 columns]"
      ]
     },
     "execution_count": 21,
     "metadata": {},
     "output_type": "execute_result"
    }
   ],
   "source": [
    "X_train"
   ]
  },
  {
   "cell_type": "markdown",
   "metadata": {},
   "source": [
    "### Scale"
   ]
  },
  {
   "cell_type": "code",
   "execution_count": 22,
   "metadata": {},
   "outputs": [],
   "source": [
    "# Scale data\n",
    "scaler = StandardScaler().fit(X_train)\n",
    "X_train_scaled = scaler.transform(X_train)\n",
    "X_test_scaled = scaler.transform(X_test)\n"
   ]
  },
  {
   "cell_type": "code",
   "execution_count": 23,
   "metadata": {},
   "outputs": [
    {
     "data": {
      "text/html": [
       "<div>\n",
       "<style scoped>\n",
       "    .dataframe tbody tr th:only-of-type {\n",
       "        vertical-align: middle;\n",
       "    }\n",
       "\n",
       "    .dataframe tbody tr th {\n",
       "        vertical-align: top;\n",
       "    }\n",
       "\n",
       "    .dataframe thead tr th {\n",
       "        text-align: left;\n",
       "    }\n",
       "</style>\n",
       "<table border=\"1\" class=\"dataframe\">\n",
       "  <thead>\n",
       "    <tr>\n",
       "      <th></th>\n",
       "      <th>Data_Value</th>\n",
       "      <th>Data_Value_Alt</th>\n",
       "      <th>LowConfidenceLimit</th>\n",
       "      <th>HighConfidenceLimit</th>\n",
       "      <th>Break_Out_Category_Age</th>\n",
       "      <th>Break_Out_Category_Gender</th>\n",
       "      <th>Break_Out_Category_Overall</th>\n",
       "      <th>Break_Out_Category_Race</th>\n",
       "      <th>Break_Out_65+</th>\n",
       "      <th>Break_Out_75+</th>\n",
       "      <th>Break_Out_Female</th>\n",
       "      <th>Break_Out_Hispanic</th>\n",
       "      <th>Break_Out_Male</th>\n",
       "      <th>Break_Out_Non-Hispanic Black</th>\n",
       "      <th>Break_Out_Non-Hispanic White</th>\n",
       "      <th>Break_Out_Other</th>\n",
       "      <th>Break_Out_Overall</th>\n",
       "    </tr>\n",
       "  </thead>\n",
       "  <tbody>\n",
       "    <tr>\n",
       "      <th>0</th>\n",
       "      <td>-0.495891</td>\n",
       "      <td>-0.835899</td>\n",
       "      <td>-0.784764</td>\n",
       "      <td>-0.744922</td>\n",
       "      <td>-0.413677</td>\n",
       "      <td>-0.575218</td>\n",
       "      <td>2.658804</td>\n",
       "      <td>-0.963341</td>\n",
       "      <td>-0.281045</td>\n",
       "      <td>-0.280454</td>\n",
       "      <td>-0.376876</td>\n",
       "      <td>-0.358284</td>\n",
       "      <td>-0.376657</td>\n",
       "      <td>-0.367447</td>\n",
       "      <td>-0.377315</td>\n",
       "      <td>-0.376219</td>\n",
       "      <td>2.658804</td>\n",
       "    </tr>\n",
       "    <tr>\n",
       "      <th>1</th>\n",
       "      <td>-0.062021</td>\n",
       "      <td>-0.587993</td>\n",
       "      <td>-0.514281</td>\n",
       "      <td>-0.549294</td>\n",
       "      <td>-0.413677</td>\n",
       "      <td>-0.575218</td>\n",
       "      <td>-0.376109</td>\n",
       "      <td>1.038054</td>\n",
       "      <td>-0.281045</td>\n",
       "      <td>-0.280454</td>\n",
       "      <td>-0.376876</td>\n",
       "      <td>-0.358284</td>\n",
       "      <td>-0.376657</td>\n",
       "      <td>-0.367447</td>\n",
       "      <td>-0.377315</td>\n",
       "      <td>2.658029</td>\n",
       "      <td>-0.376109</td>\n",
       "    </tr>\n",
       "    <tr>\n",
       "      <th>2</th>\n",
       "      <td>-0.417006</td>\n",
       "      <td>-0.790825</td>\n",
       "      <td>-0.741137</td>\n",
       "      <td>-0.711385</td>\n",
       "      <td>-0.413677</td>\n",
       "      <td>1.738473</td>\n",
       "      <td>-0.376109</td>\n",
       "      <td>-0.963341</td>\n",
       "      <td>-0.281045</td>\n",
       "      <td>-0.280454</td>\n",
       "      <td>-0.376876</td>\n",
       "      <td>-0.358284</td>\n",
       "      <td>2.654934</td>\n",
       "      <td>-0.367447</td>\n",
       "      <td>-0.377315</td>\n",
       "      <td>-0.376219</td>\n",
       "      <td>-0.376109</td>\n",
       "    </tr>\n",
       "    <tr>\n",
       "      <th>3</th>\n",
       "      <td>-0.828525</td>\n",
       "      <td>-0.234914</td>\n",
       "      <td>-0.173996</td>\n",
       "      <td>-0.247468</td>\n",
       "      <td>-0.413677</td>\n",
       "      <td>-0.575218</td>\n",
       "      <td>2.658804</td>\n",
       "      <td>-0.963341</td>\n",
       "      <td>-0.281045</td>\n",
       "      <td>-0.280454</td>\n",
       "      <td>-0.376876</td>\n",
       "      <td>-0.358284</td>\n",
       "      <td>-0.376657</td>\n",
       "      <td>-0.367447</td>\n",
       "      <td>-0.377315</td>\n",
       "      <td>-0.376219</td>\n",
       "      <td>2.658804</td>\n",
       "    </tr>\n",
       "    <tr>\n",
       "      <th>4</th>\n",
       "      <td>-0.573462</td>\n",
       "      <td>1.222475</td>\n",
       "      <td>1.509979</td>\n",
       "      <td>0.836869</td>\n",
       "      <td>-0.413677</td>\n",
       "      <td>-0.575218</td>\n",
       "      <td>-0.376109</td>\n",
       "      <td>1.038054</td>\n",
       "      <td>-0.281045</td>\n",
       "      <td>-0.280454</td>\n",
       "      <td>-0.376876</td>\n",
       "      <td>-0.358284</td>\n",
       "      <td>-0.376657</td>\n",
       "      <td>-0.367447</td>\n",
       "      <td>-0.377315</td>\n",
       "      <td>2.658029</td>\n",
       "      <td>-0.376109</td>\n",
       "    </tr>\n",
       "    <tr>\n",
       "      <th>...</th>\n",
       "      <td>...</td>\n",
       "      <td>...</td>\n",
       "      <td>...</td>\n",
       "      <td>...</td>\n",
       "      <td>...</td>\n",
       "      <td>...</td>\n",
       "      <td>...</td>\n",
       "      <td>...</td>\n",
       "      <td>...</td>\n",
       "      <td>...</td>\n",
       "      <td>...</td>\n",
       "      <td>...</td>\n",
       "      <td>...</td>\n",
       "      <td>...</td>\n",
       "      <td>...</td>\n",
       "      <td>...</td>\n",
       "      <td>...</td>\n",
       "    </tr>\n",
       "    <tr>\n",
       "      <th>31578</th>\n",
       "      <td>-0.213219</td>\n",
       "      <td>3.280849</td>\n",
       "      <td>3.604040</td>\n",
       "      <td>2.563984</td>\n",
       "      <td>-0.413677</td>\n",
       "      <td>-0.575218</td>\n",
       "      <td>-0.376109</td>\n",
       "      <td>1.038054</td>\n",
       "      <td>-0.281045</td>\n",
       "      <td>-0.280454</td>\n",
       "      <td>-0.376876</td>\n",
       "      <td>-0.358284</td>\n",
       "      <td>-0.376657</td>\n",
       "      <td>2.721478</td>\n",
       "      <td>-0.377315</td>\n",
       "      <td>-0.376219</td>\n",
       "      <td>-0.376109</td>\n",
       "    </tr>\n",
       "    <tr>\n",
       "      <th>31579</th>\n",
       "      <td>0.477029</td>\n",
       "      <td>-0.279988</td>\n",
       "      <td>-1.107598</td>\n",
       "      <td>0.473560</td>\n",
       "      <td>-0.413677</td>\n",
       "      <td>-0.575218</td>\n",
       "      <td>-0.376109</td>\n",
       "      <td>1.038054</td>\n",
       "      <td>-0.281045</td>\n",
       "      <td>-0.280454</td>\n",
       "      <td>-0.376876</td>\n",
       "      <td>2.791084</td>\n",
       "      <td>-0.376657</td>\n",
       "      <td>-0.367447</td>\n",
       "      <td>-0.377315</td>\n",
       "      <td>-0.376219</td>\n",
       "      <td>-0.376109</td>\n",
       "    </tr>\n",
       "    <tr>\n",
       "      <th>31580</th>\n",
       "      <td>2.304542</td>\n",
       "      <td>0.764224</td>\n",
       "      <td>1.012639</td>\n",
       "      <td>0.479150</td>\n",
       "      <td>2.417344</td>\n",
       "      <td>-0.575218</td>\n",
       "      <td>-0.376109</td>\n",
       "      <td>-0.963341</td>\n",
       "      <td>3.558155</td>\n",
       "      <td>-0.280454</td>\n",
       "      <td>-0.376876</td>\n",
       "      <td>-0.358284</td>\n",
       "      <td>-0.376657</td>\n",
       "      <td>-0.367447</td>\n",
       "      <td>-0.377315</td>\n",
       "      <td>-0.376219</td>\n",
       "      <td>-0.376109</td>\n",
       "    </tr>\n",
       "    <tr>\n",
       "      <th>31581</th>\n",
       "      <td>-0.469596</td>\n",
       "      <td>-0.820874</td>\n",
       "      <td>-0.776038</td>\n",
       "      <td>-0.733743</td>\n",
       "      <td>-0.413677</td>\n",
       "      <td>-0.575218</td>\n",
       "      <td>2.658804</td>\n",
       "      <td>-0.963341</td>\n",
       "      <td>-0.281045</td>\n",
       "      <td>-0.280454</td>\n",
       "      <td>-0.376876</td>\n",
       "      <td>-0.358284</td>\n",
       "      <td>-0.376657</td>\n",
       "      <td>-0.367447</td>\n",
       "      <td>-0.377315</td>\n",
       "      <td>-0.376219</td>\n",
       "      <td>2.658804</td>\n",
       "    </tr>\n",
       "    <tr>\n",
       "      <th>31582</th>\n",
       "      <td>-0.653662</td>\n",
       "      <td>-0.926047</td>\n",
       "      <td>-1.029071</td>\n",
       "      <td>-0.722564</td>\n",
       "      <td>-0.413677</td>\n",
       "      <td>-0.575218</td>\n",
       "      <td>-0.376109</td>\n",
       "      <td>1.038054</td>\n",
       "      <td>-0.281045</td>\n",
       "      <td>-0.280454</td>\n",
       "      <td>-0.376876</td>\n",
       "      <td>2.791084</td>\n",
       "      <td>-0.376657</td>\n",
       "      <td>-0.367447</td>\n",
       "      <td>-0.377315</td>\n",
       "      <td>-0.376219</td>\n",
       "      <td>-0.376109</td>\n",
       "    </tr>\n",
       "  </tbody>\n",
       "</table>\n",
       "<p>31583 rows × 17 columns</p>\n",
       "</div>"
      ],
      "text/plain": [
       "      Data_Value Data_Value_Alt LowConfidenceLimit HighConfidenceLimit  \\\n",
       "0      -0.495891      -0.835899          -0.784764           -0.744922   \n",
       "1      -0.062021      -0.587993          -0.514281           -0.549294   \n",
       "2      -0.417006      -0.790825          -0.741137           -0.711385   \n",
       "3      -0.828525      -0.234914          -0.173996           -0.247468   \n",
       "4      -0.573462       1.222475           1.509979            0.836869   \n",
       "...          ...            ...                ...                 ...   \n",
       "31578  -0.213219       3.280849           3.604040            2.563984   \n",
       "31579   0.477029      -0.279988          -1.107598            0.473560   \n",
       "31580   2.304542       0.764224           1.012639            0.479150   \n",
       "31581  -0.469596      -0.820874          -0.776038           -0.733743   \n",
       "31582  -0.653662      -0.926047          -1.029071           -0.722564   \n",
       "\n",
       "      Break_Out_Category_Age Break_Out_Category_Gender  \\\n",
       "0                  -0.413677                 -0.575218   \n",
       "1                  -0.413677                 -0.575218   \n",
       "2                  -0.413677                  1.738473   \n",
       "3                  -0.413677                 -0.575218   \n",
       "4                  -0.413677                 -0.575218   \n",
       "...                      ...                       ...   \n",
       "31578              -0.413677                 -0.575218   \n",
       "31579              -0.413677                 -0.575218   \n",
       "31580               2.417344                 -0.575218   \n",
       "31581              -0.413677                 -0.575218   \n",
       "31582              -0.413677                 -0.575218   \n",
       "\n",
       "      Break_Out_Category_Overall Break_Out_Category_Race Break_Out_65+  \\\n",
       "0                       2.658804               -0.963341     -0.281045   \n",
       "1                      -0.376109                1.038054     -0.281045   \n",
       "2                      -0.376109               -0.963341     -0.281045   \n",
       "3                       2.658804               -0.963341     -0.281045   \n",
       "4                      -0.376109                1.038054     -0.281045   \n",
       "...                          ...                     ...           ...   \n",
       "31578                  -0.376109                1.038054     -0.281045   \n",
       "31579                  -0.376109                1.038054     -0.281045   \n",
       "31580                  -0.376109               -0.963341      3.558155   \n",
       "31581                   2.658804               -0.963341     -0.281045   \n",
       "31582                  -0.376109                1.038054     -0.281045   \n",
       "\n",
       "      Break_Out_75+ Break_Out_Female Break_Out_Hispanic Break_Out_Male  \\\n",
       "0         -0.280454        -0.376876          -0.358284      -0.376657   \n",
       "1         -0.280454        -0.376876          -0.358284      -0.376657   \n",
       "2         -0.280454        -0.376876          -0.358284       2.654934   \n",
       "3         -0.280454        -0.376876          -0.358284      -0.376657   \n",
       "4         -0.280454        -0.376876          -0.358284      -0.376657   \n",
       "...             ...              ...                ...            ...   \n",
       "31578     -0.280454        -0.376876          -0.358284      -0.376657   \n",
       "31579     -0.280454        -0.376876           2.791084      -0.376657   \n",
       "31580     -0.280454        -0.376876          -0.358284      -0.376657   \n",
       "31581     -0.280454        -0.376876          -0.358284      -0.376657   \n",
       "31582     -0.280454        -0.376876           2.791084      -0.376657   \n",
       "\n",
       "      Break_Out_Non-Hispanic Black Break_Out_Non-Hispanic White  \\\n",
       "0                        -0.367447                    -0.377315   \n",
       "1                        -0.367447                    -0.377315   \n",
       "2                        -0.367447                    -0.377315   \n",
       "3                        -0.367447                    -0.377315   \n",
       "4                        -0.367447                    -0.377315   \n",
       "...                            ...                          ...   \n",
       "31578                     2.721478                    -0.377315   \n",
       "31579                    -0.367447                    -0.377315   \n",
       "31580                    -0.367447                    -0.377315   \n",
       "31581                    -0.367447                    -0.377315   \n",
       "31582                    -0.367447                    -0.377315   \n",
       "\n",
       "      Break_Out_Other Break_Out_Overall  \n",
       "0           -0.376219          2.658804  \n",
       "1            2.658029         -0.376109  \n",
       "2           -0.376219         -0.376109  \n",
       "3           -0.376219          2.658804  \n",
       "4            2.658029         -0.376109  \n",
       "...               ...               ...  \n",
       "31578       -0.376219         -0.376109  \n",
       "31579       -0.376219         -0.376109  \n",
       "31580       -0.376219         -0.376109  \n",
       "31581       -0.376219          2.658804  \n",
       "31582       -0.376219         -0.376109  \n",
       "\n",
       "[31583 rows x 17 columns]"
      ]
     },
     "execution_count": 23,
     "metadata": {},
     "output_type": "execute_result"
    }
   ],
   "source": [
    "X_test_scaled_df = pd.DataFrame(X_test_scaled, columns=[X_test.columns])\n",
    "X_train_scaled_df = pd.DataFrame(X_train_scaled, columns=[X_train.columns])\n",
    "X_train_scaled_df"
   ]
  },
  {
   "cell_type": "code",
   "execution_count": 24,
   "metadata": {},
   "outputs": [
    {
     "data": {
      "text/plain": [
       "Has CVD    0\n",
       "dtype: int64"
      ]
     },
     "execution_count": 24,
     "metadata": {},
     "output_type": "execute_result"
    }
   ],
   "source": [
    "y_train_df.isnull().sum()"
   ]
  },
  {
   "cell_type": "markdown",
   "metadata": {},
   "source": [
    "## Train and test models"
   ]
  },
  {
   "cell_type": "markdown",
   "metadata": {},
   "source": [
    "### DecisionTreeClassifier"
   ]
  },
  {
   "cell_type": "code",
   "execution_count": 25,
   "metadata": {},
   "outputs": [],
   "source": [
    "dtclf = DecisionTreeClassifier(random_state=RAND_ST_VAL)"
   ]
  },
  {
   "cell_type": "code",
   "execution_count": 26,
   "metadata": {},
   "outputs": [],
   "source": [
    "dtclf = dtclf.fit(X_train_scaled,y_train)"
   ]
  },
  {
   "cell_type": "markdown",
   "metadata": {},
   "source": [
    "#### Serialize trained model\n",
    "\n",
    "To deserialize do\n",
    "    with open('model.pkl', 'rb') as f:\n",
    "    loaded_model = pickle.load(f)"
   ]
  },
  {
   "cell_type": "code",
   "execution_count": 27,
   "metadata": {},
   "outputs": [],
   "source": [
    "serializeModel(dtclf, \"./trained_models/dtclf.pkl\")"
   ]
  },
  {
   "cell_type": "code",
   "execution_count": 28,
   "metadata": {},
   "outputs": [],
   "source": [
    "# predict\n",
    "predictions = dtclf.predict(X_test_scaled)"
   ]
  },
  {
   "cell_type": "code",
   "execution_count": 29,
   "metadata": {},
   "outputs": [
    {
     "data": {
      "text/plain": [
       "array([1., 1., 0., ..., 0., 0., 1.])"
      ]
     },
     "execution_count": 29,
     "metadata": {},
     "output_type": "execute_result"
    }
   ],
   "source": [
    "predictions"
   ]
  },
  {
   "cell_type": "code",
   "execution_count": 30,
   "metadata": {},
   "outputs": [
    {
     "name": "stdout",
     "output_type": "stream",
     "text": [
      "\n",
      "            Accuracy Score: 0.91\n",
      "            --- For linear models ---\n",
      "            MSE: 0.09\n",
      "            RMSE: 0.31\n",
      "            --- For classification models ---\n",
      "            Precision: 0.90\n",
      "            Recall: 0.89\n",
      "\n",
      "            \n"
     ]
    }
   ],
   "source": [
    "printPerformanceMetrics(y_test, predictions)\n"
   ]
  },
  {
   "cell_type": "markdown",
   "metadata": {},
   "source": [
    "### RandomForestClassifier"
   ]
  },
  {
   "cell_type": "markdown",
   "metadata": {},
   "source": [
    "Start with any parameters"
   ]
  },
  {
   "cell_type": "code",
   "execution_count": 31,
   "metadata": {},
   "outputs": [],
   "source": [
    "# RandomForestClassifier\n",
    "n_est = 10\n",
    "#max_depth = 20\n",
    "\n",
    "rfc_clf = RandomForestClassifier(random_state=RAND_ST_VAL, n_estimators=n_est)\n",
    "rfc_clf = rfc_clf.fit(X_train_scaled, y_train)"
   ]
  },
  {
   "cell_type": "markdown",
   "metadata": {},
   "source": [
    "Serialize the trained model"
   ]
  },
  {
   "cell_type": "code",
   "execution_count": 32,
   "metadata": {},
   "outputs": [],
   "source": [
    "serializeModel(rfc_clf, \"./trained_models/rfc_clf.pkl\")"
   ]
  },
  {
   "cell_type": "code",
   "execution_count": 33,
   "metadata": {},
   "outputs": [],
   "source": [
    "# Evaluate the model\n",
    "rfc_predictions = rfc_clf.predict(X_test_scaled)"
   ]
  },
  {
   "cell_type": "code",
   "execution_count": 34,
   "metadata": {},
   "outputs": [
    {
     "name": "stdout",
     "output_type": "stream",
     "text": [
      "\n",
      "            Accuracy Score: 0.91\n",
      "            --- For linear models ---\n",
      "            MSE: 0.09\n",
      "            RMSE: 0.30\n",
      "            --- For classification models ---\n",
      "            Precision: 0.90\n",
      "            Recall: 0.90\n",
      "\n",
      "            \n"
     ]
    }
   ],
   "source": [
    "printPerformanceMetrics(y_test, rfc_predictions)"
   ]
  },
  {
   "cell_type": "markdown",
   "metadata": {},
   "source": [
    "Try to find the optimal parameters"
   ]
  },
  {
   "cell_type": "code",
   "execution_count": 35,
   "metadata": {},
   "outputs": [
    {
     "name": "stdout",
     "output_type": "stream",
     "text": [
      "Best Parameters:  {'max_depth': 10, 'max_features': 'log2', 'min_samples_leaf': 2, 'min_samples_split': 3, 'n_estimators': 125}\n"
     ]
    }
   ],
   "source": [
    "best_rfc_clf = RandomForestClassifier(random_state=RAND_ST_VAL)\n",
    "best_rfc_clf = randomForestHyperParamTuning(best_rfc_clf,X_train_scaled, y_train)"
   ]
  },
  {
   "cell_type": "code",
   "execution_count": 36,
   "metadata": {},
   "outputs": [],
   "source": [
    "# Evaluate the model\n",
    "best_rfc_predictions = best_rfc_clf.predict(X_test_scaled)"
   ]
  },
  {
   "cell_type": "code",
   "execution_count": 37,
   "metadata": {},
   "outputs": [
    {
     "name": "stdout",
     "output_type": "stream",
     "text": [
      "\n",
      "            Accuracy Score: 0.92\n",
      "            --- For linear models ---\n",
      "            MSE: 0.08\n",
      "            RMSE: 0.28\n",
      "            --- For classification models ---\n",
      "            Precision: 0.92\n",
      "            Recall: 0.90\n",
      "\n",
      "            \n"
     ]
    }
   ],
   "source": [
    "printPerformanceMetrics(y_test, best_rfc_predictions)"
   ]
  },
  {
   "cell_type": "code",
   "execution_count": 38,
   "metadata": {},
   "outputs": [],
   "source": [
    "#Serialize the model\n",
    "serializeModel(best_rfc_clf, \"./trained_models/best_rfc_clf.pkl\")"
   ]
  }
 ],
 "metadata": {
  "kernelspec": {
   "display_name": "dev",
   "language": "python",
   "name": "python3"
  },
  "language_info": {
   "codemirror_mode": {
    "name": "ipython",
    "version": 3
   },
   "file_extension": ".py",
   "mimetype": "text/x-python",
   "name": "python",
   "nbconvert_exporter": "python",
   "pygments_lexer": "ipython3",
   "version": "3.10.14"
  }
 },
 "nbformat": 4,
 "nbformat_minor": 2
}
